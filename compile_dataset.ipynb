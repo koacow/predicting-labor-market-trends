{
 "cells": [
  {
   "cell_type": "markdown",
   "id": "cb7470fc",
   "metadata": {},
   "source": [
    "# Compiling County-Level Data\n",
    "\n",
    "## Overview\n",
    "\n",
    "This notebook compiles a dataset of county-level population, employment, and economic indicators from various sources including the American Community Survey (ACS), Bureau of Labor Statistics Local Area Unemployment Statistics (BLS LAUS), and Federal Reserve Economic Data (FRED). The data spans from 2010 to 2024.\n",
    "\n",
    "## Sources\n",
    "\n",
    "If API is not specified, data must be downloaded manually.\n",
    "\n",
    "- *BLS LAUS*: https://www.bls.gov/lau/tables.htm#cntyaa\n",
    "\n",
    "## Data Dictionary\n",
    "| Column Name               | Description                                      | Source                     |\n",
    "|---------------------------|--------------------------------------------------|----------------------------|\n",
    "| FIPS5                    | 5-digit FIPS code for the county                 | ACS                        |"
   ]
  },
  {
   "cell_type": "code",
   "execution_count": 2,
   "id": "48baab85",
   "metadata": {},
   "outputs": [],
   "source": [
    "import pandas as pd\n",
    "import requests\n",
    "\n",
    "YEARS = range(2010, 2025)"
   ]
  },
  {
   "cell_type": "code",
   "execution_count": null,
   "id": "f70f40d3",
   "metadata": {},
   "outputs": [],
   "source": [
    "BLS = pd.DataFrame()\n",
    "dtype = {\n",
    "    'State FIPS Code': str,\n",
    "    'County FIPS Code': str,\n",
    "}\n",
    "for year in YEARS:\n",
    "    df = pd.read_excel(f'./data/bls/laucnty{str(year)[-2:]}.xlsx', skiprows=1, dtype=dtype)\n",
    "    df['Year'] = year\n",
    "    BLS = pd.concat([BLS, df], ignore_index=True)\n",
    "BLS['FIPS5'] = BLS['State FIPS Code'] + BLS['County FIPS Code']\n",
    "BLS.drop(columns=['LAUS Code', 'County Name/State Abbreviation', 'State FIPS Code', 'County FIPS Code'], inplace=True)\n",
    "BLS"
   ]
  },
  {
   "cell_type": "code",
   "execution_count": null,
   "id": "1b4976be",
   "metadata": {},
   "outputs": [],
   "source": []
  }
 ],
 "metadata": {
  "kernelspec": {
   "display_name": "base",
   "language": "python",
   "name": "python3"
  },
  "language_info": {
   "codemirror_mode": {
    "name": "ipython",
    "version": 3
   },
   "file_extension": ".py",
   "mimetype": "text/x-python",
   "name": "python",
   "nbconvert_exporter": "python",
   "pygments_lexer": "ipython3",
   "version": "3.12.8"
  }
 },
 "nbformat": 4,
 "nbformat_minor": 5
}
